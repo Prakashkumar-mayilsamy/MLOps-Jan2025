{
  "nbformat": 4,
  "nbformat_minor": 0,
  "metadata": {
    "colab": {
      "provenance": [],
      "authorship_tag": "ABX9TyNZQ6B9qsk6nact6GJjiIQr",
      "include_colab_link": true
    },
    "kernelspec": {
      "name": "python3",
      "display_name": "Python 3"
    },
    "language_info": {
      "name": "python"
    }
  },
  "cells": [
    {
      "cell_type": "markdown",
      "metadata": {
        "id": "view-in-github",
        "colab_type": "text"
      },
      "source": [
        "<a href=\"https://colab.research.google.com/github/Prakashkumar-mayilsamy/MLOps-Jan2025/blob/main/G24ait030_assign0.ipynb\" target=\"_parent\"><img src=\"https://colab.research.google.com/assets/colab-badge.svg\" alt=\"Open In Colab\"/></a>"
      ]
    },
    {
      "cell_type": "code",
      "execution_count": null,
      "metadata": {
        "id": "wFeojfRLrfPB"
      },
      "outputs": [],
      "source": [
        "import numpy as np\n",
        "import pandas as pd\n",
        "import matplotlib.pyplot as plt\n",
        "import seaborn as sns\n",
        "import time\n",
        "\n",
        "from tensorflow.keras.datasets import mnist\n",
        "from sklearn.model_selection import train_test_split, cross_val_score, StratifiedKFold\n",
        "from sklearn.preprocessing import StandardScaler, MinMaxScaler\n",
        "from sklearn.ensemble import RandomForestClassifier, RandomForestRegressor\n",
        "from sklearn.svm import SVC\n",
        "from sklearn.metrics import accuracy_score, classification_report, confusion_matrix, mean_absolute_error\n",
        "from statsmodels.tsa.seasonal import seasonal_decompose"
      ]
    },
    {
      "cell_type": "code",
      "source": [
        "# Load MNIST dataset\n",
        "(X_train_img, y_train_img), (X_test_img, y_test_img) = mnist.load_data()\n",
        "\n",
        "# Display some images\n",
        "plt.figure(figsize=(5, 5))\n",
        "for i in range(9):\n",
        "    plt.subplot(3, 3, i+1)\n",
        "    plt.imshow(X_train_img[i], cmap='gray')\n",
        "    plt.axis('off')\n",
        "plt.show()\n",
        "\n",
        "# Check dataset shape\n",
        "print(\"Train images:\", X_train_img.shape)\n",
        "print(\"Test images:\", X_test_img.shape)"
      ],
      "metadata": {
        "id": "9nk4EjJ3rl7p",
        "colab": {
          "base_uri": "https://localhost:8080/",
          "height": 457
        },
        "outputId": "1037473f-e251-498b-d516-2651109286cf"
      },
      "execution_count": 5,
      "outputs": [
        {
          "output_type": "display_data",
          "data": {
            "text/plain": [
              "<Figure size 500x500 with 9 Axes>"
            ],
            "image/png": "[encoded data removed]"
          },
          "metadata": {}
        },
        {
          "output_type": "stream",
          "name": "stdout",
          "text": [
            "Train images: (60000, 28, 28)\n",
            "Test images: (10000, 28, 28)\n"
          ]
        }
      ]
    },
    {
      "cell_type": "code",
      "source": [
        "# Normalize and reshape the data\n",
        "X_train_img = X_train_img.reshape(-1, 28*28) / 255.0  # Flatten & scale\n",
        "X_test_img = X_test_img.reshape(-1, 28*28) / 255.0"
      ],
      "metadata": {
        "id": "j305mggqtiy9"
      },
      "execution_count": 6,
      "outputs": []
    },
    {
      "cell_type": "code",
      "source": [
        "models = {\n",
        "    \"Random Forest\": RandomForestClassifier(n_estimators=100),\n",
        "    \"Support Vector Machine\": SVC(kernel='linear')\n",
        "}\n",
        "\n",
        "for name, model in models.items():\n",
        "    model.fit(X_train_img, y_train_img)\n",
        "    y_pred = model.predict(X_test_img)\n",
        "    print(f\"{name} Accuracy:\", accuracy_score(y_test_img, y_pred))"
      ],
      "metadata": {
        "colab": {
          "base_uri": "https://localhost:8080/"
        },
        "id": "2MrSW-UytyFX",
        "outputId": "28105104-aecb-4bb3-dd85-d3c68d70d04c"
      },
      "execution_count": null,
      "outputs": [
        {
          "output_type": "stream",
          "name": "stdout",
          "text": [
            "Random Forest Accuracy: 0.9713\n"
          ]
        }
      ]
    },
    {
      "cell_type": "code",
      "source": [
        "y_pred_rf = models[\"Random Forest\"].predict(X_test_img)\n",
        "print(\"Classification Report:\\n\", classification_report(y_test_img, y_pred_rf))\n",
        "\n",
        "sns.heatmap(confusion_matrix(y_test_img, y_pred_rf), annot=True, fmt='d')\n",
        "plt.title(\"Confusion Matrix - Random Forest\")\n",
        "plt.show()"
      ],
      "metadata": {
        "id": "N_-GrpeMt1jY"
      },
      "execution_count": null,
      "outputs": []
    },
    {
      "cell_type": "code",
      "source": [
        "# Load dataset\n",
        "url = \"https://raw.githubusercontent.com/jbrownlee/Datasets/master/airline-passengers.csv\"\n",
        "df_ts = pd.read_csv(url, parse_dates=['Month'], index_col='Month')\n",
        "\n",
        "# Display first few rows\n",
        "print(df_ts.head())\n",
        "\n",
        "# Plot the time-series data\n",
        "df_ts.plot(figsize=(10, 5), title=\"Air Passenger Data\")\n",
        "plt.show()"
      ],
      "metadata": {
        "id": "xJWD1TnRt3fx"
      },
      "execution_count": null,
      "outputs": []
    },
    {
      "cell_type": "code",
      "source": [
        "# Check for missing values\n",
        "print(df_ts.isnull().sum())\n",
        "\n",
        "# Perform seasonal decomposition\n",
        "decomposition = seasonal_decompose(df_ts, model='multiplicative')\n",
        "decomposition.plot()\n",
        "plt.show()"
      ],
      "metadata": {
        "id": "F5QkPW2nt8XV"
      },
      "execution_count": null,
      "outputs": []
    },
    {
      "cell_type": "code",
      "source": [
        "df_ts['Lag_1'] = df_ts['Passengers'].shift(1)\n",
        "df_ts['Rolling_Mean'] = df_ts['Passengers'].rolling(window=3).mean()\n",
        "df_ts.dropna(inplace=True)"
      ],
      "metadata": {
        "id": "YT5eQ0cwt-Zj"
      },
      "execution_count": null,
      "outputs": []
    },
    {
      "cell_type": "code",
      "source": [
        "train_size = int(len(df_ts) * 0.8)\n",
        "train, test = df_ts[:train_size], df_ts[train_size:]\n",
        "\n",
        "X_train_ts, y_train_ts = train[['Lag_1', 'Rolling_Mean']], train['Passengers']\n",
        "X_test_ts, y_test_ts = test[['Lag_1', 'Rolling_Mean']], test['Passengers']"
      ],
      "metadata": {
        "id": "zGoSmkGAuASq"
      },
      "execution_count": null,
      "outputs": []
    },
    {
      "cell_type": "code",
      "source": [
        "model_ts = RandomForestRegressor(n_estimators=100)\n",
        "model_ts.fit(X_train_ts, y_train_ts)\n",
        "\n",
        "y_pred_ts = model_ts.predict(X_test_ts)\n",
        "print(\"Mean Absolute Error:\", mean_absolute_error(y_test_ts, y_pred_ts))"
      ],
      "metadata": {
        "id": "qziNF7A6uA8N"
      },
      "execution_count": null,
      "outputs": []
    },
    {
      "cell_type": "code",
      "source": [
        "plt.figure(figsize=(10, 5))\n",
        "plt.plot(test.index, y_test_ts, label=\"Actual\")\n",
        "plt.plot(test.index, y_pred_ts, label=\"Predicted\", linestyle=\"dashed\")\n",
        "plt.legend()\n",
        "plt.title(\"Random Forest Time-Series Prediction\")\n",
        "plt.show()"
      ],
      "metadata": {
        "id": "kP4ldRusuDF3"
      },
      "execution_count": null,
      "outputs": []
    },
    {
      "cell_type": "code",
      "source": [
        "from sklearn.model_selection import GridSearchCV\n",
        "\n",
        "param_grid = {'n_estimators': [50, 100, 200], 'max_depth': [5, 10, 20]}\n",
        "grid_search = GridSearchCV(RandomForestClassifier(), param_grid, cv=5)\n",
        "grid_search.fit(X_train_img, y_train_img)\n",
        "print(\"Best Parameters:\", grid_search.best_params_)"
      ],
      "metadata": {
        "id": "AKDHgmmpuF-h"
      },
      "execution_count": null,
      "outputs": []
    },
    {
      "cell_type": "code",
      "source": [
        "# k-Fold Cross Validation\n",
        "skf = StratifiedKFold(n_splits=5, shuffle=True, random_state=42)\n",
        "scores = cross_val_score(RandomForestClassifier(), X_train_img, y_train_img, cv=skf)\n",
        "print(\"Stratified K-Fold Accuracy:\", np.mean(scores))"
      ],
      "metadata": {
        "id": "Xo8D9hnTuIhA"
      },
      "execution_count": null,
      "outputs": []
    },
    {
      "cell_type": "code",
      "source": [
        "from sklearn.linear_model import LogisticRegression\n",
        "model = LogisticRegression(penalty='l2', C=0.1)"
      ],
      "metadata": {
        "id": "FmgzCL_buJLS"
      },
      "execution_count": null,
      "outputs": []
    },
    {
      "cell_type": "code",
      "source": [
        "X_test_noisy = X_test_img + np.random.normal(0, 0.1, X_test_img.shape)\n",
        "y_pred_noisy = models[\"Random Forest\"].predict(X_test_noisy)\n",
        "print(\"Accuracy on Noisy Data:\", accuracy_score(y_test_img, y_pred_noisy))"
      ],
      "metadata": {
        "id": "4pQ850hFuM19"
      },
      "execution_count": null,
      "outputs": []
    },
    {
      "cell_type": "code",
      "source": [
        "!apt-get install wkhtmltopdf\n",
        "!pip install pdfkit\n",
        "import pdfkit\n",
        "\n",
        "with open(\"report.html\", \"w\") as file:\n",
        "    file.write(\"<h1>ML Pipeline Report</h1>\")\n",
        "    file.write(\"<p>Best Model Accuracy: {:.4f}</p>\".format(accuracy_score(y_test_img, y_pred_rf)))\n",
        "\n",
        "pdfkit.from_file(\"report.html\", \"/content/drive/My Drive/ML_Report.pdf\")"
      ],
      "metadata": {
        "id": "HRTcCYAMuNqw"
      },
      "execution_count": null,
      "outputs": []
    }
  ]
}